{
 "cells": [
  {
   "cell_type": "markdown",
   "metadata": {},
   "source": [
    "# 参考资料\n",
    "[Stanford Attentive Reader：斯坦福机器阅读理解模型](https://www.imooc.com/article/28801)  \n",
    "Machine Comprehension with Syntax, Frames, and Semantics  \n",
    "CNN&Dailymail：Teaching Machines to Read and Comprehend\n",
    "A Thorough Examination of the CNN/Daily Mail Reading Comprehension Task  "
   ]
  },
  {
   "cell_type": "markdown",
   "metadata": {},
   "source": [
    "# ASReader：一个经典的机器阅读理解深度学习模型\n",
    "- ASReader模型在2016年ACL会议上的《Text Understanding with the Attention Sum Reader Network 》提出 \n",
    "- 问题：说明是注意力机制？"
   ]
  },
  {
   "cell_type": "markdown",
   "metadata": {},
   "source": [
    "## 语料库\n"
   ]
  },
  {
   "cell_type": "markdown",
   "metadata": {},
   "source": [
    "- [数据来源](https://github.com/deepmind/rc-data)\n",
    "- 数据来源解释：一部分来自CNN（美国有限新闻网）， 一部分来自Daily Mail（每日邮报网）\n",
    "- 数据量：大约100W条新闻数据\n",
    "- 数据覆盖新闻时间：2007.4~2015.4（CNN），2010.6~2015.4(Daily Mail)\n",
    "- 选择的文章必须满足：单篇不超过2000字；问题答案必须在原文出现\n",
    "- 处理数据的方法：将总结和解释性的句子转化为[背景, 问题, 答案]三元组\n",
    "- 答案是某种实体对象"
   ]
  },
  {
   "cell_type": "markdown",
   "metadata": {},
   "source": [
    "# 命名实体替换\n",
    "\n",
    "- 求给定上下文文档和问题下，答案文本出现的条件概率\n",
    "- Hermann尝试剔除词组共现统计对机器阅读理解的影响，让网络模型更关注从上下文挖掘实体的语义关系 \n"
   ]
  },
  {
   "cell_type": "markdown",
   "metadata": {},
   "source": [
    "# 模型"
   ]
  },
  {
   "cell_type": "code",
   "execution_count": 1,
   "metadata": {},
   "outputs": [
    {
     "name": "stdout",
     "output_type": "stream",
     "text": [
      " 驱动器 C 中的卷是 OS\n",
      " 卷的序列号是 5A84-8BA1\n",
      "\n",
      " C:\\Users\\cyh\\AnacondaProjects\\MachineReading_notes 的目录\n",
      "\n",
      "2018/06/25  18:00    <DIR>          .\n",
      "2018/06/25  18:00    <DIR>          ..\n",
      "2018/06/25  18:00    <DIR>          .ipynb_checkpoints\n",
      "2018/06/25  17:32             2,147 0625_machine_reading_notes_abby.ipynb\n",
      "2018/06/25  17:27            21,069 model1.png\n",
      "2018/06/25  17:07    <DIR>          rc-data\n",
      "2018/06/25  17:43                22 README.md\n",
      "               3 个文件         23,238 字节\n",
      "               4 个目录 21,243,154,432 可用字节\n"
     ]
    }
   ],
   "source": [
    "ls"
   ]
  },
  {
   "cell_type": "markdown",
   "metadata": {},
   "source": [
    "<img src=\"model1.png\" >\n",
    "<caption><center> **Figure 1**</center></caption><br>"
   ]
  },
  {
   "cell_type": "code",
   "execution_count": null,
   "metadata": {},
   "outputs": [],
   "source": [
    "frame-semantic：捕捉主谓宾三元组（e1, V, e2）\n",
    "word distance:选取距离最小的实体对象作为问题答案"
   ]
  },
  {
   "cell_type": "markdown",
   "metadata": {},
   "source": [
    "# 实验"
   ]
  },
  {
   "cell_type": "markdown",
   "metadata": {},
   "source": [
    "- 基线方法   \n",
    "1）maximum frequency：上下文中最常见  \n",
    "2）exclusive frequency ：上下文中最常见但问题中没有出现  \n",
    "\n",
    "\n",
    "- 模型超参数设置\n",
    "\n",
    "- 实验结果"
   ]
  },
  {
   "cell_type": "markdown",
   "metadata": {},
   "source": [
    "## A Thorough Examination of the CNN/Daily Mail Reading Comprehension Task "
   ]
  },
  {
   "cell_type": "code",
   "execution_count": null,
   "metadata": {},
   "outputs": [],
   "source": []
  }
 ],
 "metadata": {
  "kernelspec": {
   "display_name": "Python 3",
   "language": "python",
   "name": "python3"
  },
  "language_info": {
   "codemirror_mode": {
    "name": "ipython",
    "version": 3
   },
   "file_extension": ".py",
   "mimetype": "text/x-python",
   "name": "python",
   "nbconvert_exporter": "python",
   "pygments_lexer": "ipython3",
   "version": "3.6.4"
  }
 },
 "nbformat": 4,
 "nbformat_minor": 2
}
