{
 "cells": [
  {
   "cell_type": "markdown",
   "metadata": {},
   "source": [
    "# 参考资料\n",
    "[Stanford Attentive Reader：斯坦福机器阅读理解模型](https://www.imooc.com/article/28801)  \n",
    "Machine Comprehension with Syntax, Frames, and Semantics  \n",
    "A Thorough Examination of the CNN/Daily Mail Reading Comprehension Task  "
   ]
  },
  {
   "cell_type": "markdown",
   "metadata": {},
   "source": [
    "# 语料库\n"
   ]
  },
  {
   "cell_type": "markdown",
   "metadata": {},
   "source": [
    "- [数据来源](https://github.com/deepmind/rc-data)\n",
    "- 数据来源解释：一部分来自CNN（美国有限新闻网）， 一部分来自Daily Mail（每日邮报网）\n",
    "- 数据量：大约100W条新闻数据\n",
    "- 数据覆盖新闻时间：2007.4~2015.4（CNN），2010.6~2015.4(Daily Mail)\n",
    "- 选择的文章必须满足：单篇不超过2000字；问题答案必须在原文出现\n",
    "- 处理数据的方法：将总结和解释性的句子转化为[背景, 问题, 答案]三元组\n",
    "- 答案是某种实体对象"
   ]
  },
  {
   "cell_type": "markdown",
   "metadata": {},
   "source": [
    "# 命名实体替换\n",
    "\n",
    "- 求给定上下文文档和问题下，答案文本出现的条件概率\n",
    "- Hermann尝试剔除词组共现统计对机器阅读理解的影响，让网络模型更关注从上下文挖掘实体的语义关系 \n"
   ]
  },
  {
   "cell_type": "code",
   "execution_count": null,
   "metadata": {},
   "outputs": [],
   "source": [
    "frame-semantic：捕捉主谓宾三元组（e1, V, e2）\n",
    "word distance:选取距离最小的实体对象作为问题答案"
   ]
  }
 ],
 "metadata": {
  "kernelspec": {
   "display_name": "Python 3",
   "language": "python",
   "name": "python3"
  },
  "language_info": {
   "codemirror_mode": {
    "name": "ipython",
    "version": 3
   },
   "file_extension": ".py",
   "mimetype": "text/x-python",
   "name": "python",
   "nbconvert_exporter": "python",
   "pygments_lexer": "ipython3",
   "version": "3.6.4"
  }
 },
 "nbformat": 4,
 "nbformat_minor": 2
}
